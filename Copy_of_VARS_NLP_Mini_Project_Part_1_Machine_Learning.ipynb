{
  "nbformat": 4,
  "nbformat_minor": 0,
  "metadata": {
    "colab": {
      "provenance": [],
      "gpuType": "V28"
    },
    "kernelspec": {
      "name": "python3",
      "display_name": "Python 3"
    },
    "language_info": {
      "name": "python"
    },
    "accelerator": "TPU"
  },
  "cells": [
    {
      "cell_type": "code",
      "source": [
        "# Student Code: Load the dataset\n",
        "import pandas as pd\n",
        "\n",
        "# Example: Load your dataset (replace with the actual dataset path or URL)\n",
        "df = pd.read_csv(\"/content/NLP Manufacturer Dataset .csv\")\n",
        "\n",
        "# Display the first few rows to understand the structure\n",
        "df.head(10)"
      ],
      "metadata": {
        "colab": {
          "base_uri": "https://localhost:8080/",
          "height": 363
        },
        "id": "_iohANDXgh7I",
        "outputId": "20544348-5895-4c98-b7a6-77394c499331"
      },
      "execution_count": null,
      "outputs": [
        {
          "output_type": "execute_result",
          "data": {
            "text/plain": [
              "                                               Input    Prediction\n",
              "0  The production batch has been inspected thorou...     Compliant\n",
              "1  During the final inspection, some units were f...  Minor Defect\n",
              "2  A critical defect was identified in the batch ...   Major Issue\n",
              "3  All items in this batch passed the quality con...     Compliant\n",
              "4  There are some minor defects in a few units, s...  Minor Defect\n",
              "5  Several items failed the structural integrity ...   Major Issue\n",
              "6  The product batch meets all specified quality ...     Compliant\n",
              "7  Some of the units show minor cosmetic defects,...  Minor Defect\n",
              "8  The batch failed quality inspection due to con...   Major Issue\n",
              "9  All products in this batch were tested for fun...     Compliant"
            ],
            "text/html": [
              "\n",
              "  <div id=\"df-387dcb85-e968-41d4-8ec4-9bb30b61a998\" class=\"colab-df-container\">\n",
              "    <div>\n",
              "<style scoped>\n",
              "    .dataframe tbody tr th:only-of-type {\n",
              "        vertical-align: middle;\n",
              "    }\n",
              "\n",
              "    .dataframe tbody tr th {\n",
              "        vertical-align: top;\n",
              "    }\n",
              "\n",
              "    .dataframe thead th {\n",
              "        text-align: right;\n",
              "    }\n",
              "</style>\n",
              "<table border=\"1\" class=\"dataframe\">\n",
              "  <thead>\n",
              "    <tr style=\"text-align: right;\">\n",
              "      <th></th>\n",
              "      <th>Input</th>\n",
              "      <th>Prediction</th>\n",
              "    </tr>\n",
              "  </thead>\n",
              "  <tbody>\n",
              "    <tr>\n",
              "      <th>0</th>\n",
              "      <td>The production batch has been inspected thorou...</td>\n",
              "      <td>Compliant</td>\n",
              "    </tr>\n",
              "    <tr>\n",
              "      <th>1</th>\n",
              "      <td>During the final inspection, some units were f...</td>\n",
              "      <td>Minor Defect</td>\n",
              "    </tr>\n",
              "    <tr>\n",
              "      <th>2</th>\n",
              "      <td>A critical defect was identified in the batch ...</td>\n",
              "      <td>Major Issue</td>\n",
              "    </tr>\n",
              "    <tr>\n",
              "      <th>3</th>\n",
              "      <td>All items in this batch passed the quality con...</td>\n",
              "      <td>Compliant</td>\n",
              "    </tr>\n",
              "    <tr>\n",
              "      <th>4</th>\n",
              "      <td>There are some minor defects in a few units, s...</td>\n",
              "      <td>Minor Defect</td>\n",
              "    </tr>\n",
              "    <tr>\n",
              "      <th>5</th>\n",
              "      <td>Several items failed the structural integrity ...</td>\n",
              "      <td>Major Issue</td>\n",
              "    </tr>\n",
              "    <tr>\n",
              "      <th>6</th>\n",
              "      <td>The product batch meets all specified quality ...</td>\n",
              "      <td>Compliant</td>\n",
              "    </tr>\n",
              "    <tr>\n",
              "      <th>7</th>\n",
              "      <td>Some of the units show minor cosmetic defects,...</td>\n",
              "      <td>Minor Defect</td>\n",
              "    </tr>\n",
              "    <tr>\n",
              "      <th>8</th>\n",
              "      <td>The batch failed quality inspection due to con...</td>\n",
              "      <td>Major Issue</td>\n",
              "    </tr>\n",
              "    <tr>\n",
              "      <th>9</th>\n",
              "      <td>All products in this batch were tested for fun...</td>\n",
              "      <td>Compliant</td>\n",
              "    </tr>\n",
              "  </tbody>\n",
              "</table>\n",
              "</div>\n",
              "    <div class=\"colab-df-buttons\">\n",
              "\n",
              "  <div class=\"colab-df-container\">\n",
              "    <button class=\"colab-df-convert\" onclick=\"convertToInteractive('df-387dcb85-e968-41d4-8ec4-9bb30b61a998')\"\n",
              "            title=\"Convert this dataframe to an interactive table.\"\n",
              "            style=\"display:none;\">\n",
              "\n",
              "  <svg xmlns=\"http://www.w3.org/2000/svg\" height=\"24px\" viewBox=\"0 -960 960 960\">\n",
              "    <path d=\"M120-120v-720h720v720H120Zm60-500h600v-160H180v160Zm220 220h160v-160H400v160Zm0 220h160v-160H400v160ZM180-400h160v-160H180v160Zm440 0h160v-160H620v160ZM180-180h160v-160H180v160Zm440 0h160v-160H620v160Z\"/>\n",
              "  </svg>\n",
              "    </button>\n",
              "\n",
              "  <style>\n",
              "    .colab-df-container {\n",
              "      display:flex;\n",
              "      gap: 12px;\n",
              "    }\n",
              "\n",
              "    .colab-df-convert {\n",
              "      background-color: #E8F0FE;\n",
              "      border: none;\n",
              "      border-radius: 50%;\n",
              "      cursor: pointer;\n",
              "      display: none;\n",
              "      fill: #1967D2;\n",
              "      height: 32px;\n",
              "      padding: 0 0 0 0;\n",
              "      width: 32px;\n",
              "    }\n",
              "\n",
              "    .colab-df-convert:hover {\n",
              "      background-color: #E2EBFA;\n",
              "      box-shadow: 0px 1px 2px rgba(60, 64, 67, 0.3), 0px 1px 3px 1px rgba(60, 64, 67, 0.15);\n",
              "      fill: #174EA6;\n",
              "    }\n",
              "\n",
              "    .colab-df-buttons div {\n",
              "      margin-bottom: 4px;\n",
              "    }\n",
              "\n",
              "    [theme=dark] .colab-df-convert {\n",
              "      background-color: #3B4455;\n",
              "      fill: #D2E3FC;\n",
              "    }\n",
              "\n",
              "    [theme=dark] .colab-df-convert:hover {\n",
              "      background-color: #434B5C;\n",
              "      box-shadow: 0px 1px 3px 1px rgba(0, 0, 0, 0.15);\n",
              "      filter: drop-shadow(0px 1px 2px rgba(0, 0, 0, 0.3));\n",
              "      fill: #FFFFFF;\n",
              "    }\n",
              "  </style>\n",
              "\n",
              "    <script>\n",
              "      const buttonEl =\n",
              "        document.querySelector('#df-387dcb85-e968-41d4-8ec4-9bb30b61a998 button.colab-df-convert');\n",
              "      buttonEl.style.display =\n",
              "        google.colab.kernel.accessAllowed ? 'block' : 'none';\n",
              "\n",
              "      async function convertToInteractive(key) {\n",
              "        const element = document.querySelector('#df-387dcb85-e968-41d4-8ec4-9bb30b61a998');\n",
              "        const dataTable =\n",
              "          await google.colab.kernel.invokeFunction('convertToInteractive',\n",
              "                                                    [key], {});\n",
              "        if (!dataTable) return;\n",
              "\n",
              "        const docLinkHtml = 'Like what you see? Visit the ' +\n",
              "          '<a target=\"_blank\" href=https://colab.research.google.com/notebooks/data_table.ipynb>data table notebook</a>'\n",
              "          + ' to learn more about interactive tables.';\n",
              "        element.innerHTML = '';\n",
              "        dataTable['output_type'] = 'display_data';\n",
              "        await google.colab.output.renderOutput(dataTable, element);\n",
              "        const docLink = document.createElement('div');\n",
              "        docLink.innerHTML = docLinkHtml;\n",
              "        element.appendChild(docLink);\n",
              "      }\n",
              "    </script>\n",
              "  </div>\n",
              "\n",
              "\n",
              "<div id=\"df-1be7348e-1af4-48e1-9c1b-4dde93b8627a\">\n",
              "  <button class=\"colab-df-quickchart\" onclick=\"quickchart('df-1be7348e-1af4-48e1-9c1b-4dde93b8627a')\"\n",
              "            title=\"Suggest charts\"\n",
              "            style=\"display:none;\">\n",
              "\n",
              "<svg xmlns=\"http://www.w3.org/2000/svg\" height=\"24px\"viewBox=\"0 0 24 24\"\n",
              "     width=\"24px\">\n",
              "    <g>\n",
              "        <path d=\"M19 3H5c-1.1 0-2 .9-2 2v14c0 1.1.9 2 2 2h14c1.1 0 2-.9 2-2V5c0-1.1-.9-2-2-2zM9 17H7v-7h2v7zm4 0h-2V7h2v10zm4 0h-2v-4h2v4z\"/>\n",
              "    </g>\n",
              "</svg>\n",
              "  </button>\n",
              "\n",
              "<style>\n",
              "  .colab-df-quickchart {\n",
              "      --bg-color: #E8F0FE;\n",
              "      --fill-color: #1967D2;\n",
              "      --hover-bg-color: #E2EBFA;\n",
              "      --hover-fill-color: #174EA6;\n",
              "      --disabled-fill-color: #AAA;\n",
              "      --disabled-bg-color: #DDD;\n",
              "  }\n",
              "\n",
              "  [theme=dark] .colab-df-quickchart {\n",
              "      --bg-color: #3B4455;\n",
              "      --fill-color: #D2E3FC;\n",
              "      --hover-bg-color: #434B5C;\n",
              "      --hover-fill-color: #FFFFFF;\n",
              "      --disabled-bg-color: #3B4455;\n",
              "      --disabled-fill-color: #666;\n",
              "  }\n",
              "\n",
              "  .colab-df-quickchart {\n",
              "    background-color: var(--bg-color);\n",
              "    border: none;\n",
              "    border-radius: 50%;\n",
              "    cursor: pointer;\n",
              "    display: none;\n",
              "    fill: var(--fill-color);\n",
              "    height: 32px;\n",
              "    padding: 0;\n",
              "    width: 32px;\n",
              "  }\n",
              "\n",
              "  .colab-df-quickchart:hover {\n",
              "    background-color: var(--hover-bg-color);\n",
              "    box-shadow: 0 1px 2px rgba(60, 64, 67, 0.3), 0 1px 3px 1px rgba(60, 64, 67, 0.15);\n",
              "    fill: var(--button-hover-fill-color);\n",
              "  }\n",
              "\n",
              "  .colab-df-quickchart-complete:disabled,\n",
              "  .colab-df-quickchart-complete:disabled:hover {\n",
              "    background-color: var(--disabled-bg-color);\n",
              "    fill: var(--disabled-fill-color);\n",
              "    box-shadow: none;\n",
              "  }\n",
              "\n",
              "  .colab-df-spinner {\n",
              "    border: 2px solid var(--fill-color);\n",
              "    border-color: transparent;\n",
              "    border-bottom-color: var(--fill-color);\n",
              "    animation:\n",
              "      spin 1s steps(1) infinite;\n",
              "  }\n",
              "\n",
              "  @keyframes spin {\n",
              "    0% {\n",
              "      border-color: transparent;\n",
              "      border-bottom-color: var(--fill-color);\n",
              "      border-left-color: var(--fill-color);\n",
              "    }\n",
              "    20% {\n",
              "      border-color: transparent;\n",
              "      border-left-color: var(--fill-color);\n",
              "      border-top-color: var(--fill-color);\n",
              "    }\n",
              "    30% {\n",
              "      border-color: transparent;\n",
              "      border-left-color: var(--fill-color);\n",
              "      border-top-color: var(--fill-color);\n",
              "      border-right-color: var(--fill-color);\n",
              "    }\n",
              "    40% {\n",
              "      border-color: transparent;\n",
              "      border-right-color: var(--fill-color);\n",
              "      border-top-color: var(--fill-color);\n",
              "    }\n",
              "    60% {\n",
              "      border-color: transparent;\n",
              "      border-right-color: var(--fill-color);\n",
              "    }\n",
              "    80% {\n",
              "      border-color: transparent;\n",
              "      border-right-color: var(--fill-color);\n",
              "      border-bottom-color: var(--fill-color);\n",
              "    }\n",
              "    90% {\n",
              "      border-color: transparent;\n",
              "      border-bottom-color: var(--fill-color);\n",
              "    }\n",
              "  }\n",
              "</style>\n",
              "\n",
              "  <script>\n",
              "    async function quickchart(key) {\n",
              "      const quickchartButtonEl =\n",
              "        document.querySelector('#' + key + ' button');\n",
              "      quickchartButtonEl.disabled = true;  // To prevent multiple clicks.\n",
              "      quickchartButtonEl.classList.add('colab-df-spinner');\n",
              "      try {\n",
              "        const charts = await google.colab.kernel.invokeFunction(\n",
              "            'suggestCharts', [key], {});\n",
              "      } catch (error) {\n",
              "        console.error('Error during call to suggestCharts:', error);\n",
              "      }\n",
              "      quickchartButtonEl.classList.remove('colab-df-spinner');\n",
              "      quickchartButtonEl.classList.add('colab-df-quickchart-complete');\n",
              "    }\n",
              "    (() => {\n",
              "      let quickchartButtonEl =\n",
              "        document.querySelector('#df-1be7348e-1af4-48e1-9c1b-4dde93b8627a button');\n",
              "      quickchartButtonEl.style.display =\n",
              "        google.colab.kernel.accessAllowed ? 'block' : 'none';\n",
              "    })();\n",
              "  </script>\n",
              "</div>\n",
              "\n",
              "    </div>\n",
              "  </div>\n"
            ],
            "application/vnd.google.colaboratory.intrinsic+json": {
              "type": "dataframe",
              "variable_name": "df",
              "summary": "{\n  \"name\": \"df\",\n  \"rows\": 1549,\n  \"fields\": [\n    {\n      \"column\": \"Input\",\n      \"properties\": {\n        \"dtype\": \"string\",\n        \"num_unique_values\": 1549,\n        \"samples\": [\n          \"The USB port is slightly loose. Some users report a wobbly connection when inserting cables. However, data transfer and charging remain unaffected.\",\n          \"The product is fully functional but has a visible dent on the side. This does not impact the operation, though it might be an aesthetic concern.\",\n          \"A batch of emergency backup generators failed fuel efficiency tests, reducing expected runtime significantly. The defect needed immediate correction.\"\n        ],\n        \"semantic_type\": \"\",\n        \"description\": \"\"\n      }\n    },\n    {\n      \"column\": \"Prediction\",\n      \"properties\": {\n        \"dtype\": \"category\",\n        \"num_unique_values\": 3,\n        \"samples\": [\n          \"Compliant\",\n          \"Minor Defect\",\n          \"Major Issue\"\n        ],\n        \"semantic_type\": \"\",\n        \"description\": \"\"\n      }\n    }\n  ]\n}"
            }
          },
          "metadata": {},
          "execution_count": 16
        }
      ]
    },
    {
      "cell_type": "code",
      "source": [
        "# Student Code: Perform EDA\n",
        "import matplotlib.pyplot as plt\n",
        "import seaborn as sns\n",
        "\n",
        "# Display dataset info and summary statistics\n",
        "print(df.info())\n",
        "print(df.describe())\n",
        "\n",
        "# Visualize the class distribution (if it's a classification task)\n",
        "sns.countplot(x='Prediction', data=df)\n",
        "plt.title(\"Class Distribution\")\n",
        "plt.show()\n",
        "\n",
        "# Check for missing values\n",
        "print(df.isnull().sum())"
      ],
      "metadata": {
        "colab": {
          "base_uri": "https://localhost:8080/",
          "height": 785
        },
        "id": "r9I2A4cQgkxa",
        "outputId": "5e65ccf8-2944-4a42-bb3e-8826a07d74fc"
      },
      "execution_count": null,
      "outputs": [
        {
          "output_type": "stream",
          "name": "stdout",
          "text": [
            "<class 'pandas.core.frame.DataFrame'>\n",
            "RangeIndex: 1549 entries, 0 to 1548\n",
            "Data columns (total 2 columns):\n",
            " #   Column      Non-Null Count  Dtype \n",
            "---  ------      --------------  ----- \n",
            " 0   Input       1549 non-null   object\n",
            " 1   Prediction  1547 non-null   object\n",
            "dtypes: object(2)\n",
            "memory usage: 24.3+ KB\n",
            "None\n",
            "                                                    Input    Prediction\n",
            "count                                                1549          1547\n",
            "unique                                               1549             3\n",
            "top     A batch of electrical extension cords had loos...  Minor Defect\n",
            "freq                                                    1           616\n"
          ]
        },
        {
          "output_type": "display_data",
          "data": {
            "text/plain": [
              "<Figure size 640x480 with 1 Axes>"
            ],
            "image/png": "[encoded data removed]"
          },
          "metadata": {}
        },
        {
          "output_type": "stream",
          "name": "stdout",
          "text": [
            "Input         0\n",
            "Prediction    2\n",
            "dtype: int64\n"
          ]
        }
      ]
    },
    {
      "cell_type": "code",
      "source": [
        "# Student Code: Text Processing (Cleaning the data)\n",
        "import re\n",
        "import nltk\n",
        "from nltk.corpus import stopwords\n",
        "\n",
        "# Download stopwords\n",
        "nltk.download('stopwords')\n",
        "stop_words = set(stopwords.words('english'))\n",
        "\n",
        "def clean_text(text):\n",
        "    # Remove non-alphabetic characters and lowercase the text\n",
        "    text = re.sub(r'[^a-zA-Z\\s]', '', text, re.I|re.A)\n",
        "    text = text.lower()\n",
        "    return text\n",
        "\n",
        "# Apply text cleaning to the dataset\n",
        "df['cleaned_text'] = df['Input'].apply(clean_text)\n",
        "\n",
        "# Display cleaned text\n",
        "df[['Input', 'cleaned_text']].head()"
      ],
      "metadata": {
        "colab": {
          "base_uri": "https://localhost:8080/",
          "height": 328
        },
        "id": "b4mdb3Nogkuv",
        "outputId": "6e7fb922-1d06-4015-f91e-7162dd388b64"
      },
      "execution_count": null,
      "outputs": [
        {
          "output_type": "stream",
          "name": "stderr",
          "text": [
            "[nltk_data] Downloading package stopwords to /root/nltk_data...\n",
            "[nltk_data]   Package stopwords is already up-to-date!\n"
          ]
        },
        {
          "output_type": "execute_result",
          "data": {
            "text/plain": [
              "                                               Input  \\\n",
              "0  The production batch has been inspected thorou...   \n",
              "1  During the final inspection, some units were f...   \n",
              "2  A critical defect was identified in the batch ...   \n",
              "3  All items in this batch passed the quality con...   \n",
              "4  There are some minor defects in a few units, s...   \n",
              "\n",
              "                                        cleaned_text  \n",
              "0  the production batch has been inspected thorou...  \n",
              "1  during the final inspection some units were fo...  \n",
              "2  a critical defect was identified in the batch ...  \n",
              "3  all items in this batch passed the quality con...  \n",
              "4  there are some minor defects in a few units su...  "
            ],
            "text/html": [
              "\n",
              "  <div id=\"df-6e92572e-c67f-490c-a21f-c32275536d2a\" class=\"colab-df-container\">\n",
              "    <div>\n",
              "<style scoped>\n",
              "    .dataframe tbody tr th:only-of-type {\n",
              "        vertical-align: middle;\n",
              "    }\n",
              "\n",
              "    .dataframe tbody tr th {\n",
              "        vertical-align: top;\n",
              "    }\n",
              "\n",
              "    .dataframe thead th {\n",
              "        text-align: right;\n",
              "    }\n",
              "</style>\n",
              "<table border=\"1\" class=\"dataframe\">\n",
              "  <thead>\n",
              "    <tr style=\"text-align: right;\">\n",
              "      <th></th>\n",
              "      <th>Input</th>\n",
              "      <th>cleaned_text</th>\n",
              "    </tr>\n",
              "  </thead>\n",
              "  <tbody>\n",
              "    <tr>\n",
              "      <th>0</th>\n",
              "      <td>The production batch has been inspected thorou...</td>\n",
              "      <td>the production batch has been inspected thorou...</td>\n",
              "    </tr>\n",
              "    <tr>\n",
              "      <th>1</th>\n",
              "      <td>During the final inspection, some units were f...</td>\n",
              "      <td>during the final inspection some units were fo...</td>\n",
              "    </tr>\n",
              "    <tr>\n",
              "      <th>2</th>\n",
              "      <td>A critical defect was identified in the batch ...</td>\n",
              "      <td>a critical defect was identified in the batch ...</td>\n",
              "    </tr>\n",
              "    <tr>\n",
              "      <th>3</th>\n",
              "      <td>All items in this batch passed the quality con...</td>\n",
              "      <td>all items in this batch passed the quality con...</td>\n",
              "    </tr>\n",
              "    <tr>\n",
              "      <th>4</th>\n",
              "      <td>There are some minor defects in a few units, s...</td>\n",
              "      <td>there are some minor defects in a few units su...</td>\n",
              "    </tr>\n",
              "  </tbody>\n",
              "</table>\n",
              "</div>\n",
              "    <div class=\"colab-df-buttons\">\n",
              "\n",
              "  <div class=\"colab-df-container\">\n",
              "    <button class=\"colab-df-convert\" onclick=\"convertToInteractive('df-6e92572e-c67f-490c-a21f-c32275536d2a')\"\n",
              "            title=\"Convert this dataframe to an interactive table.\"\n",
              "            style=\"display:none;\">\n",
              "\n",
              "  <svg xmlns=\"http://www.w3.org/2000/svg\" height=\"24px\" viewBox=\"0 -960 960 960\">\n",
              "    <path d=\"M120-120v-720h720v720H120Zm60-500h600v-160H180v160Zm220 220h160v-160H400v160Zm0 220h160v-160H400v160ZM180-400h160v-160H180v160Zm440 0h160v-160H620v160ZM180-180h160v-160H180v160Zm440 0h160v-160H620v160Z\"/>\n",
              "  </svg>\n",
              "    </button>\n",
              "\n",
              "  <style>\n",
              "    .colab-df-container {\n",
              "      display:flex;\n",
              "      gap: 12px;\n",
              "    }\n",
              "\n",
              "    .colab-df-convert {\n",
              "      background-color: #E8F0FE;\n",
              "      border: none;\n",
              "      border-radius: 50%;\n",
              "      cursor: pointer;\n",
              "      display: none;\n",
              "      fill: #1967D2;\n",
              "      height: 32px;\n",
              "      padding: 0 0 0 0;\n",
              "      width: 32px;\n",
              "    }\n",
              "\n",
              "    .colab-df-convert:hover {\n",
              "      background-color: #E2EBFA;\n",
              "      box-shadow: 0px 1px 2px rgba(60, 64, 67, 0.3), 0px 1px 3px 1px rgba(60, 64, 67, 0.15);\n",
              "      fill: #174EA6;\n",
              "    }\n",
              "\n",
              "    .colab-df-buttons div {\n",
              "      margin-bottom: 4px;\n",
              "    }\n",
              "\n",
              "    [theme=dark] .colab-df-convert {\n",
              "      background-color: #3B4455;\n",
              "      fill: #D2E3FC;\n",
              "    }\n",
              "\n",
              "    [theme=dark] .colab-df-convert:hover {\n",
              "      background-color: #434B5C;\n",
              "      box-shadow: 0px 1px 3px 1px rgba(0, 0, 0, 0.15);\n",
              "      filter: drop-shadow(0px 1px 2px rgba(0, 0, 0, 0.3));\n",
              "      fill: #FFFFFF;\n",
              "    }\n",
              "  </style>\n",
              "\n",
              "    <script>\n",
              "      const buttonEl =\n",
              "        document.querySelector('#df-6e92572e-c67f-490c-a21f-c32275536d2a button.colab-df-convert');\n",
              "      buttonEl.style.display =\n",
              "        google.colab.kernel.accessAllowed ? 'block' : 'none';\n",
              "\n",
              "      async function convertToInteractive(key) {\n",
              "        const element = document.querySelector('#df-6e92572e-c67f-490c-a21f-c32275536d2a');\n",
              "        const dataTable =\n",
              "          await google.colab.kernel.invokeFunction('convertToInteractive',\n",
              "                                                    [key], {});\n",
              "        if (!dataTable) return;\n",
              "\n",
              "        const docLinkHtml = 'Like what you see? Visit the ' +\n",
              "          '<a target=\"_blank\" href=https://colab.research.google.com/notebooks/data_table.ipynb>data table notebook</a>'\n",
              "          + ' to learn more about interactive tables.';\n",
              "        element.innerHTML = '';\n",
              "        dataTable['output_type'] = 'display_data';\n",
              "        await google.colab.output.renderOutput(dataTable, element);\n",
              "        const docLink = document.createElement('div');\n",
              "        docLink.innerHTML = docLinkHtml;\n",
              "        element.appendChild(docLink);\n",
              "      }\n",
              "    </script>\n",
              "  </div>\n",
              "\n",
              "\n",
              "<div id=\"df-54267320-f8ae-408e-8713-167dcd0c3b81\">\n",
              "  <button class=\"colab-df-quickchart\" onclick=\"quickchart('df-54267320-f8ae-408e-8713-167dcd0c3b81')\"\n",
              "            title=\"Suggest charts\"\n",
              "            style=\"display:none;\">\n",
              "\n",
              "<svg xmlns=\"http://www.w3.org/2000/svg\" height=\"24px\"viewBox=\"0 0 24 24\"\n",
              "     width=\"24px\">\n",
              "    <g>\n",
              "        <path d=\"M19 3H5c-1.1 0-2 .9-2 2v14c0 1.1.9 2 2 2h14c1.1 0 2-.9 2-2V5c0-1.1-.9-2-2-2zM9 17H7v-7h2v7zm4 0h-2V7h2v10zm4 0h-2v-4h2v4z\"/>\n",
              "    </g>\n",
              "</svg>\n",
              "  </button>\n",
              "\n",
              "<style>\n",
              "  .colab-df-quickchart {\n",
              "      --bg-color: #E8F0FE;\n",
              "      --fill-color: #1967D2;\n",
              "      --hover-bg-color: #E2EBFA;\n",
              "      --hover-fill-color: #174EA6;\n",
              "      --disabled-fill-color: #AAA;\n",
              "      --disabled-bg-color: #DDD;\n",
              "  }\n",
              "\n",
              "  [theme=dark] .colab-df-quickchart {\n",
              "      --bg-color: #3B4455;\n",
              "      --fill-color: #D2E3FC;\n",
              "      --hover-bg-color: #434B5C;\n",
              "      --hover-fill-color: #FFFFFF;\n",
              "      --disabled-bg-color: #3B4455;\n",
              "      --disabled-fill-color: #666;\n",
              "  }\n",
              "\n",
              "  .colab-df-quickchart {\n",
              "    background-color: var(--bg-color);\n",
              "    border: none;\n",
              "    border-radius: 50%;\n",
              "    cursor: pointer;\n",
              "    display: none;\n",
              "    fill: var(--fill-color);\n",
              "    height: 32px;\n",
              "    padding: 0;\n",
              "    width: 32px;\n",
              "  }\n",
              "\n",
              "  .colab-df-quickchart:hover {\n",
              "    background-color: var(--hover-bg-color);\n",
              "    box-shadow: 0 1px 2px rgba(60, 64, 67, 0.3), 0 1px 3px 1px rgba(60, 64, 67, 0.15);\n",
              "    fill: var(--button-hover-fill-color);\n",
              "  }\n",
              "\n",
              "  .colab-df-quickchart-complete:disabled,\n",
              "  .colab-df-quickchart-complete:disabled:hover {\n",
              "    background-color: var(--disabled-bg-color);\n",
              "    fill: var(--disabled-fill-color);\n",
              "    box-shadow: none;\n",
              "  }\n",
              "\n",
              "  .colab-df-spinner {\n",
              "    border: 2px solid var(--fill-color);\n",
              "    border-color: transparent;\n",
              "    border-bottom-color: var(--fill-color);\n",
              "    animation:\n",
              "      spin 1s steps(1) infinite;\n",
              "  }\n",
              "\n",
              "  @keyframes spin {\n",
              "    0% {\n",
              "      border-color: transparent;\n",
              "      border-bottom-color: var(--fill-color);\n",
              "      border-left-color: var(--fill-color);\n",
              "    }\n",
              "    20% {\n",
              "      border-color: transparent;\n",
              "      border-left-color: var(--fill-color);\n",
              "      border-top-color: var(--fill-color);\n",
              "    }\n",
              "    30% {\n",
              "      border-color: transparent;\n",
              "      border-left-color: var(--fill-color);\n",
              "      border-top-color: var(--fill-color);\n",
              "      border-right-color: var(--fill-color);\n",
              "    }\n",
              "    40% {\n",
              "      border-color: transparent;\n",
              "      border-right-color: var(--fill-color);\n",
              "      border-top-color: var(--fill-color);\n",
              "    }\n",
              "    60% {\n",
              "      border-color: transparent;\n",
              "      border-right-color: var(--fill-color);\n",
              "    }\n",
              "    80% {\n",
              "      border-color: transparent;\n",
              "      border-right-color: var(--fill-color);\n",
              "      border-bottom-color: var(--fill-color);\n",
              "    }\n",
              "    90% {\n",
              "      border-color: transparent;\n",
              "      border-bottom-color: var(--fill-color);\n",
              "    }\n",
              "  }\n",
              "</style>\n",
              "\n",
              "  <script>\n",
              "    async function quickchart(key) {\n",
              "      const quickchartButtonEl =\n",
              "        document.querySelector('#' + key + ' button');\n",
              "      quickchartButtonEl.disabled = true;  // To prevent multiple clicks.\n",
              "      quickchartButtonEl.classList.add('colab-df-spinner');\n",
              "      try {\n",
              "        const charts = await google.colab.kernel.invokeFunction(\n",
              "            'suggestCharts', [key], {});\n",
              "      } catch (error) {\n",
              "        console.error('Error during call to suggestCharts:', error);\n",
              "      }\n",
              "      quickchartButtonEl.classList.remove('colab-df-spinner');\n",
              "      quickchartButtonEl.classList.add('colab-df-quickchart-complete');\n",
              "    }\n",
              "    (() => {\n",
              "      let quickchartButtonEl =\n",
              "        document.querySelector('#df-54267320-f8ae-408e-8713-167dcd0c3b81 button');\n",
              "      quickchartButtonEl.style.display =\n",
              "        google.colab.kernel.accessAllowed ? 'block' : 'none';\n",
              "    })();\n",
              "  </script>\n",
              "</div>\n",
              "\n",
              "    </div>\n",
              "  </div>\n"
            ],
            "application/vnd.google.colaboratory.intrinsic+json": {
              "type": "dataframe",
              "summary": "{\n  \"name\": \"df[['Input', 'cleaned_text']]\",\n  \"rows\": 5,\n  \"fields\": [\n    {\n      \"column\": \"Input\",\n      \"properties\": {\n        \"dtype\": \"string\",\n        \"num_unique_values\": 5,\n        \"samples\": [\n          \"During the final inspection, some units were found to have minor surface scratches. These defects are purely cosmetic and do not affect the overall functionality or safety of the product.\",\n          \"There are some minor defects in a few units, such as slight discoloration on the surface of the product. These defects are not expected to impact the product's performance and can be considered non-critical.\",\n          \"A critical defect was identified in the batch where 12 units had faulty wiring, leading to electrical malfunctions. Immediate action is required to prevent any safety hazards. These units must be removed from production immediately.\"\n        ],\n        \"semantic_type\": \"\",\n        \"description\": \"\"\n      }\n    },\n    {\n      \"column\": \"cleaned_text\",\n      \"properties\": {\n        \"dtype\": \"string\",\n        \"num_unique_values\": 5,\n        \"samples\": [\n          \"during the final inspection some units were found to have minor surface scratches these defects are purely cosmetic and do not affect the overall functionality or safety of the product\",\n          \"there are some minor defects in a few units such as slight discoloration on the surface of the product these defects are not expected to impact the products performance and can be considered noncritical\",\n          \"a critical defect was identified in the batch where  units had faulty wiring leading to electrical malfunctions immediate action is required to prevent any safety hazards these units must be removed from production immediately\"\n        ],\n        \"semantic_type\": \"\",\n        \"description\": \"\"\n      }\n    }\n  ]\n}"
            }
          },
          "metadata": {},
          "execution_count": 18
        }
      ]
    },
    {
      "cell_type": "code",
      "source": [
        "# Student Code: Generate NLP-based features\n",
        "import numpy as np\n",
        "\n",
        "def generate_nlp_features(df):\n",
        "    # Character count\n",
        "    df['char_count'] = df['cleaned_text'].apply(len)\n",
        "    # Word count\n",
        "    df['word_count'] = df['cleaned_text'].apply(lambda x: len(x.split()))\n",
        "    # Average word length\n",
        "    df['avg_word_length'] = df['cleaned_text'].apply(lambda x: np.mean([len(word) for word in x.split()]))\n",
        "    # Stopword count\n",
        "    df['stopword_count'] = df['cleaned_text'].apply(lambda x: len([word for word in x.split() if word in stop_words]))\n",
        "    # Hashtag count (for datasets like tweets)\n",
        "    df['htag_count'] = df['cleaned_text'].apply(lambda x: x.count('#'))\n",
        "\n",
        "    return df\n",
        "\n",
        "# Generate NLP features\n",
        "df = generate_nlp_features(df)\n",
        "df[['char_count', 'word_count', 'avg_word_length', 'stopword_count', 'htag_count']].head()"
      ],
      "metadata": {
        "colab": {
          "base_uri": "https://localhost:8080/",
          "height": 206
        },
        "id": "FBDR3BIXgksY",
        "outputId": "b9f3d82a-90fe-4447-fa9e-31381597629d"
      },
      "execution_count": null,
      "outputs": [
        {
          "output_type": "execute_result",
          "data": {
            "text/plain": [
              "   char_count  word_count  avg_word_length  stopword_count  htag_count\n",
              "0         180          26         5.961538              11           0\n",
              "1         184          30         5.166667              15           0\n",
              "2         226          34         5.647059              13           0\n",
              "3         168          25         5.760000              10           0\n",
              "4         202          34         4.970588              20           0"
            ],
            "text/html": [
              "\n",
              "  <div id=\"df-8bbcc172-210c-49a5-9ed9-b3d330e530a5\" class=\"colab-df-container\">\n",
              "    <div>\n",
              "<style scoped>\n",
              "    .dataframe tbody tr th:only-of-type {\n",
              "        vertical-align: middle;\n",
              "    }\n",
              "\n",
              "    .dataframe tbody tr th {\n",
              "        vertical-align: top;\n",
              "    }\n",
              "\n",
              "    .dataframe thead th {\n",
              "        text-align: right;\n",
              "    }\n",
              "</style>\n",
              "<table border=\"1\" class=\"dataframe\">\n",
              "  <thead>\n",
              "    <tr style=\"text-align: right;\">\n",
              "      <th></th>\n",
              "      <th>char_count</th>\n",
              "      <th>word_count</th>\n",
              "      <th>avg_word_length</th>\n",
              "      <th>stopword_count</th>\n",
              "      <th>htag_count</th>\n",
              "    </tr>\n",
              "  </thead>\n",
              "  <tbody>\n",
              "    <tr>\n",
              "      <th>0</th>\n",
              "      <td>180</td>\n",
              "      <td>26</td>\n",
              "      <td>5.961538</td>\n",
              "      <td>11</td>\n",
              "      <td>0</td>\n",
              "    </tr>\n",
              "    <tr>\n",
              "      <th>1</th>\n",
              "      <td>184</td>\n",
              "      <td>30</td>\n",
              "      <td>5.166667</td>\n",
              "      <td>15</td>\n",
              "      <td>0</td>\n",
              "    </tr>\n",
              "    <tr>\n",
              "      <th>2</th>\n",
              "      <td>226</td>\n",
              "      <td>34</td>\n",
              "      <td>5.647059</td>\n",
              "      <td>13</td>\n",
              "      <td>0</td>\n",
              "    </tr>\n",
              "    <tr>\n",
              "      <th>3</th>\n",
              "      <td>168</td>\n",
              "      <td>25</td>\n",
              "      <td>5.760000</td>\n",
              "      <td>10</td>\n",
              "      <td>0</td>\n",
              "    </tr>\n",
              "    <tr>\n",
              "      <th>4</th>\n",
              "      <td>202</td>\n",
              "      <td>34</td>\n",
              "      <td>4.970588</td>\n",
              "      <td>20</td>\n",
              "      <td>0</td>\n",
              "    </tr>\n",
              "  </tbody>\n",
              "</table>\n",
              "</div>\n",
              "    <div class=\"colab-df-buttons\">\n",
              "\n",
              "  <div class=\"colab-df-container\">\n",
              "    <button class=\"colab-df-convert\" onclick=\"convertToInteractive('df-8bbcc172-210c-49a5-9ed9-b3d330e530a5')\"\n",
              "            title=\"Convert this dataframe to an interactive table.\"\n",
              "            style=\"display:none;\">\n",
              "\n",
              "  <svg xmlns=\"http://www.w3.org/2000/svg\" height=\"24px\" viewBox=\"0 -960 960 960\">\n",
              "    <path d=\"M120-120v-720h720v720H120Zm60-500h600v-160H180v160Zm220 220h160v-160H400v160Zm0 220h160v-160H400v160ZM180-400h160v-160H180v160Zm440 0h160v-160H620v160ZM180-180h160v-160H180v160Zm440 0h160v-160H620v160Z\"/>\n",
              "  </svg>\n",
              "    </button>\n",
              "\n",
              "  <style>\n",
              "    .colab-df-container {\n",
              "      display:flex;\n",
              "      gap: 12px;\n",
              "    }\n",
              "\n",
              "    .colab-df-convert {\n",
              "      background-color: #E8F0FE;\n",
              "      border: none;\n",
              "      border-radius: 50%;\n",
              "      cursor: pointer;\n",
              "      display: none;\n",
              "      fill: #1967D2;\n",
              "      height: 32px;\n",
              "      padding: 0 0 0 0;\n",
              "      width: 32px;\n",
              "    }\n",
              "\n",
              "    .colab-df-convert:hover {\n",
              "      background-color: #E2EBFA;\n",
              "      box-shadow: 0px 1px 2px rgba(60, 64, 67, 0.3), 0px 1px 3px 1px rgba(60, 64, 67, 0.15);\n",
              "      fill: #174EA6;\n",
              "    }\n",
              "\n",
              "    .colab-df-buttons div {\n",
              "      margin-bottom: 4px;\n",
              "    }\n",
              "\n",
              "    [theme=dark] .colab-df-convert {\n",
              "      background-color: #3B4455;\n",
              "      fill: #D2E3FC;\n",
              "    }\n",
              "\n",
              "    [theme=dark] .colab-df-convert:hover {\n",
              "      background-color: #434B5C;\n",
              "      box-shadow: 0px 1px 3px 1px rgba(0, 0, 0, 0.15);\n",
              "      filter: drop-shadow(0px 1px 2px rgba(0, 0, 0, 0.3));\n",
              "      fill: #FFFFFF;\n",
              "    }\n",
              "  </style>\n",
              "\n",
              "    <script>\n",
              "      const buttonEl =\n",
              "        document.querySelector('#df-8bbcc172-210c-49a5-9ed9-b3d330e530a5 button.colab-df-convert');\n",
              "      buttonEl.style.display =\n",
              "        google.colab.kernel.accessAllowed ? 'block' : 'none';\n",
              "\n",
              "      async function convertToInteractive(key) {\n",
              "        const element = document.querySelector('#df-8bbcc172-210c-49a5-9ed9-b3d330e530a5');\n",
              "        const dataTable =\n",
              "          await google.colab.kernel.invokeFunction('convertToInteractive',\n",
              "                                                    [key], {});\n",
              "        if (!dataTable) return;\n",
              "\n",
              "        const docLinkHtml = 'Like what you see? Visit the ' +\n",
              "          '<a target=\"_blank\" href=https://colab.research.google.com/notebooks/data_table.ipynb>data table notebook</a>'\n",
              "          + ' to learn more about interactive tables.';\n",
              "        element.innerHTML = '';\n",
              "        dataTable['output_type'] = 'display_data';\n",
              "        await google.colab.output.renderOutput(dataTable, element);\n",
              "        const docLink = document.createElement('div');\n",
              "        docLink.innerHTML = docLinkHtml;\n",
              "        element.appendChild(docLink);\n",
              "      }\n",
              "    </script>\n",
              "  </div>\n",
              "\n",
              "\n",
              "<div id=\"df-6c55c126-3a48-4105-9dba-be425ac6dbf8\">\n",
              "  <button class=\"colab-df-quickchart\" onclick=\"quickchart('df-6c55c126-3a48-4105-9dba-be425ac6dbf8')\"\n",
              "            title=\"Suggest charts\"\n",
              "            style=\"display:none;\">\n",
              "\n",
              "<svg xmlns=\"http://www.w3.org/2000/svg\" height=\"24px\"viewBox=\"0 0 24 24\"\n",
              "     width=\"24px\">\n",
              "    <g>\n",
              "        <path d=\"M19 3H5c-1.1 0-2 .9-2 2v14c0 1.1.9 2 2 2h14c1.1 0 2-.9 2-2V5c0-1.1-.9-2-2-2zM9 17H7v-7h2v7zm4 0h-2V7h2v10zm4 0h-2v-4h2v4z\"/>\n",
              "    </g>\n",
              "</svg>\n",
              "  </button>\n",
              "\n",
              "<style>\n",
              "  .colab-df-quickchart {\n",
              "      --bg-color: #E8F0FE;\n",
              "      --fill-color: #1967D2;\n",
              "      --hover-bg-color: #E2EBFA;\n",
              "      --hover-fill-color: #174EA6;\n",
              "      --disabled-fill-color: #AAA;\n",
              "      --disabled-bg-color: #DDD;\n",
              "  }\n",
              "\n",
              "  [theme=dark] .colab-df-quickchart {\n",
              "      --bg-color: #3B4455;\n",
              "      --fill-color: #D2E3FC;\n",
              "      --hover-bg-color: #434B5C;\n",
              "      --hover-fill-color: #FFFFFF;\n",
              "      --disabled-bg-color: #3B4455;\n",
              "      --disabled-fill-color: #666;\n",
              "  }\n",
              "\n",
              "  .colab-df-quickchart {\n",
              "    background-color: var(--bg-color);\n",
              "    border: none;\n",
              "    border-radius: 50%;\n",
              "    cursor: pointer;\n",
              "    display: none;\n",
              "    fill: var(--fill-color);\n",
              "    height: 32px;\n",
              "    padding: 0;\n",
              "    width: 32px;\n",
              "  }\n",
              "\n",
              "  .colab-df-quickchart:hover {\n",
              "    background-color: var(--hover-bg-color);\n",
              "    box-shadow: 0 1px 2px rgba(60, 64, 67, 0.3), 0 1px 3px 1px rgba(60, 64, 67, 0.15);\n",
              "    fill: var(--button-hover-fill-color);\n",
              "  }\n",
              "\n",
              "  .colab-df-quickchart-complete:disabled,\n",
              "  .colab-df-quickchart-complete:disabled:hover {\n",
              "    background-color: var(--disabled-bg-color);\n",
              "    fill: var(--disabled-fill-color);\n",
              "    box-shadow: none;\n",
              "  }\n",
              "\n",
              "  .colab-df-spinner {\n",
              "    border: 2px solid var(--fill-color);\n",
              "    border-color: transparent;\n",
              "    border-bottom-color: var(--fill-color);\n",
              "    animation:\n",
              "      spin 1s steps(1) infinite;\n",
              "  }\n",
              "\n",
              "  @keyframes spin {\n",
              "    0% {\n",
              "      border-color: transparent;\n",
              "      border-bottom-color: var(--fill-color);\n",
              "      border-left-color: var(--fill-color);\n",
              "    }\n",
              "    20% {\n",
              "      border-color: transparent;\n",
              "      border-left-color: var(--fill-color);\n",
              "      border-top-color: var(--fill-color);\n",
              "    }\n",
              "    30% {\n",
              "      border-color: transparent;\n",
              "      border-left-color: var(--fill-color);\n",
              "      border-top-color: var(--fill-color);\n",
              "      border-right-color: var(--fill-color);\n",
              "    }\n",
              "    40% {\n",
              "      border-color: transparent;\n",
              "      border-right-color: var(--fill-color);\n",
              "      border-top-color: var(--fill-color);\n",
              "    }\n",
              "    60% {\n",
              "      border-color: transparent;\n",
              "      border-right-color: var(--fill-color);\n",
              "    }\n",
              "    80% {\n",
              "      border-color: transparent;\n",
              "      border-right-color: var(--fill-color);\n",
              "      border-bottom-color: var(--fill-color);\n",
              "    }\n",
              "    90% {\n",
              "      border-color: transparent;\n",
              "      border-bottom-color: var(--fill-color);\n",
              "    }\n",
              "  }\n",
              "</style>\n",
              "\n",
              "  <script>\n",
              "    async function quickchart(key) {\n",
              "      const quickchartButtonEl =\n",
              "        document.querySelector('#' + key + ' button');\n",
              "      quickchartButtonEl.disabled = true;  // To prevent multiple clicks.\n",
              "      quickchartButtonEl.classList.add('colab-df-spinner');\n",
              "      try {\n",
              "        const charts = await google.colab.kernel.invokeFunction(\n",
              "            'suggestCharts', [key], {});\n",
              "      } catch (error) {\n",
              "        console.error('Error during call to suggestCharts:', error);\n",
              "      }\n",
              "      quickchartButtonEl.classList.remove('colab-df-spinner');\n",
              "      quickchartButtonEl.classList.add('colab-df-quickchart-complete');\n",
              "    }\n",
              "    (() => {\n",
              "      let quickchartButtonEl =\n",
              "        document.querySelector('#df-6c55c126-3a48-4105-9dba-be425ac6dbf8 button');\n",
              "      quickchartButtonEl.style.display =\n",
              "        google.colab.kernel.accessAllowed ? 'block' : 'none';\n",
              "    })();\n",
              "  </script>\n",
              "</div>\n",
              "\n",
              "    </div>\n",
              "  </div>\n"
            ],
            "application/vnd.google.colaboratory.intrinsic+json": {
              "type": "dataframe",
              "summary": "{\n  \"name\": \"df[['char_count', 'word_count', 'avg_word_length', 'stopword_count', 'htag_count']]\",\n  \"rows\": 5,\n  \"fields\": [\n    {\n      \"column\": \"char_count\",\n      \"properties\": {\n        \"dtype\": \"number\",\n        \"std\": 22,\n        \"min\": 168,\n        \"max\": 226,\n        \"num_unique_values\": 5,\n        \"samples\": [\n          184,\n          202,\n          226\n        ],\n        \"semantic_type\": \"\",\n        \"description\": \"\"\n      }\n    },\n    {\n      \"column\": \"word_count\",\n      \"properties\": {\n        \"dtype\": \"number\",\n        \"std\": 4,\n        \"min\": 25,\n        \"max\": 34,\n        \"num_unique_values\": 4,\n        \"samples\": [\n          30,\n          25,\n          26\n        ],\n        \"semantic_type\": \"\",\n        \"description\": \"\"\n      }\n    },\n    {\n      \"column\": \"avg_word_length\",\n      \"properties\": {\n        \"dtype\": \"number\",\n        \"std\": 0.41642079893980094,\n        \"min\": 4.970588235294118,\n        \"max\": 5.961538461538462,\n        \"num_unique_values\": 5,\n        \"samples\": [\n          5.166666666666667,\n          4.970588235294118,\n          5.647058823529412\n        ],\n        \"semantic_type\": \"\",\n        \"description\": \"\"\n      }\n    },\n    {\n      \"column\": \"stopword_count\",\n      \"properties\": {\n        \"dtype\": \"number\",\n        \"std\": 3,\n        \"min\": 10,\n        \"max\": 20,\n        \"num_unique_values\": 5,\n        \"samples\": [\n          15,\n          20,\n          13\n        ],\n        \"semantic_type\": \"\",\n        \"description\": \"\"\n      }\n    },\n    {\n      \"column\": \"htag_count\",\n      \"properties\": {\n        \"dtype\": \"number\",\n        \"std\": 0,\n        \"min\": 0,\n        \"max\": 0,\n        \"num_unique_values\": 1,\n        \"samples\": [\n          0\n        ],\n        \"semantic_type\": \"\",\n        \"description\": \"\"\n      }\n    }\n  ]\n}"
            }
          },
          "metadata": {},
          "execution_count": 19
        }
      ]
    },
    {
      "cell_type": "code",
      "source": [
        "!pip install fasttext"
      ],
      "metadata": {
        "colab": {
          "base_uri": "https://localhost:8080/"
        },
        "collapsed": true,
        "id": "-EPpMZF4jxQK",
        "outputId": "b80d88fa-3f80-4b10-8f82-d640f998bbbb"
      },
      "execution_count": null,
      "outputs": [
        {
          "output_type": "stream",
          "name": "stdout",
          "text": [
            "Requirement already satisfied: fasttext in /usr/local/lib/python3.11/dist-packages (0.9.3)\n",
            "Requirement already satisfied: pybind11>=2.2 in /usr/local/lib/python3.11/dist-packages (from fasttext) (2.13.6)\n",
            "Requirement already satisfied: setuptools>=0.7.0 in /usr/local/lib/python3.11/dist-packages (from fasttext) (75.2.0)\n",
            "Requirement already satisfied: numpy in /usr/local/lib/python3.11/dist-packages (from fasttext) (2.0.2)\n"
          ]
        }
      ]
    },
    {
      "cell_type": "code",
      "source": [
        "!wget https://dl.fbaipublicfiles.com/fasttext/vectors-crawl/cc.en.300.bin.gz\n",
        "!gunzip cc.en.300.bin.gz"
      ],
      "metadata": {
        "colab": {
          "base_uri": "https://localhost:8080/"
        },
        "collapsed": true,
        "id": "5jBnQUbAkY1Z",
        "outputId": "9a4fb6ac-3d45-4eff-80ee-af25a1885262"
      },
      "execution_count": null,
      "outputs": [
        {
          "output_type": "stream",
          "name": "stdout",
          "text": [
            "--2025-04-03 07:52:56--  https://dl.fbaipublicfiles.com/fasttext/vectors-crawl/cc.en.300.bin.gz\n",
            "Resolving dl.fbaipublicfiles.com (dl.fbaipublicfiles.com)... 3.171.22.68, 3.171.22.118, 3.171.22.33, ...\n",
            "Connecting to dl.fbaipublicfiles.com (dl.fbaipublicfiles.com)|3.171.22.68|:443... connected.\n",
            "HTTP request sent, awaiting response... 200 OK\n",
            "Length: 4503593528 (4.2G) [application/octet-stream]\n",
            "Saving to: ‘cc.en.300.bin.gz’\n",
            "\n",
            "cc.en.300.bin.gz    100%[===================>]   4.19G   292MB/s    in 15s     \n",
            "\n",
            "2025-04-03 07:53:11 (284 MB/s) - ‘cc.en.300.bin.gz’ saved [4503593528/4503593528]\n",
            "\n"
          ]
        }
      ]
    },
    {
      "cell_type": "code",
      "source": [
        "# Student Code: Generate Bag of Words, TFIDF, and FastText features\n",
        "from sklearn.feature_extraction.text import CountVectorizer, TfidfVectorizer\n",
        "import fasttext\n",
        "\n",
        "# Bag of Words\n",
        "bow_vectorizer = CountVectorizer(max_features=5000)\n",
        "X_bow = bow_vectorizer.fit_transform(df['cleaned_text'])\n",
        "\n",
        "# TFIDF\n",
        "tfidf_vectorizer = TfidfVectorizer(max_features=5000)\n",
        "X_tfidf = tfidf_vectorizer.fit_transform(df['cleaned_text'])\n",
        "\n",
        "# FastText embeddings (example using pre-trained FastText model)\n",
        "ft_model = fasttext.load_model('cc.en.300.bin')\n",
        "\n",
        "def get_fasttext_embeddings(text):\n",
        "    words = text.split()\n",
        "    word_vectors = [ft_model.get_word_vector(word) for word in words]\n",
        "    return np.mean(word_vectors, axis=0)\n",
        "\n",
        "df['fasttext_embeddings'] = df['cleaned_text'].apply(get_fasttext_embeddings)"
      ],
      "metadata": {
        "id": "yFWr-n4ngkpi"
      },
      "execution_count": null,
      "outputs": []
    },
    {
      "cell_type": "code",
      "source": [
        "# Student Code: Train Models on NLP Features (char_count, word_count, etc.)\n",
        "from sklearn.model_selection import train_test_split\n",
        "from sklearn.ensemble import RandomForestClassifier\n",
        "from sklearn.metrics import accuracy_score\n",
        "import pandas as pd # Import pandas for data manipulation\n",
        "\n",
        "# Split data\n",
        "X = df[['char_count', 'word_count', 'avg_word_length', 'stopword_count', 'htag_count']]\n",
        "y = df['Prediction']\n",
        "\n",
        "# Before splitting, remove rows with NaN values in X or y\n",
        "df_cleaned = df.dropna(subset=X.columns.tolist() + [y.name]) # Drop rows with NaN in specified columns\n",
        "X = df_cleaned[['char_count', 'word_count', 'avg_word_length', 'stopword_count', 'htag_count']] # Reassign X and y after cleaning\n",
        "y = df_cleaned['Prediction']\n",
        "\n",
        "X_train, X_test, y_train, y_test = train_test_split(X, y, test_size=0.4)\n",
        "\n",
        "# Train model (Random Forest as an example)\n",
        "model = RandomForestClassifier()\n",
        "model.fit(X_train, y_train)\n",
        "\n",
        "# Make predictions\n",
        "y_pred = model.predict(X_test)\n",
        "print(f'Accuracy: {accuracy_score(y_test, y_pred)}')"
      ],
      "metadata": {
        "id": "koKNLpW8gkm-",
        "colab": {
          "base_uri": "https://localhost:8080/"
        },
        "outputId": "41a9e8bd-e002-4bf3-990d-7ac61280989d"
      },
      "execution_count": null,
      "outputs": [
        {
          "output_type": "stream",
          "name": "stdout",
          "text": [
            "Accuracy: 0.42326332794830374\n"
          ]
        }
      ]
    },
    {
      "cell_type": "code",
      "source": [
        "# Section 6 - Random Forest\n",
        "X = df[['char_count', 'word_count', 'avg_word_length', 'stopword_count', 'htag_count']]\n",
        "y = df['Prediction']\n",
        "\n",
        "# Before splitting, remove rows with NaN values in X or y\n",
        "df_cleaned = df.dropna(subset=X.columns.tolist() + [y.name]) # Drop rows with NaN in specified columns\n",
        "X = df_cleaned[['char_count', 'word_count', 'avg_word_length', 'stopword_count', 'htag_count']] # Reassign X and y after cleaning\n",
        "y = df_cleaned['Prediction']\n",
        "\n",
        "X_train, X_test, y_train, y_test = train_test_split(\n",
        "    X, y, test_size=0.3, stratify=y\n",
        ")\n",
        "\n",
        "model = RandomForestClassifier(\n",
        "    n_estimators=50,\n",
        "    max_depth=5,\n",
        "    min_samples_split=5,\n",
        "    min_samples_leaf=2,\n",
        ")\n",
        "model.fit(X_train, y_train)\n",
        "\n",
        "y_pred = model.predict(X_test)\n",
        "accuracy = accuracy_score(y_test, y_pred)\n",
        "\n",
        "print(f'Accuracy: {accuracy:.4f}')"
      ],
      "metadata": {
        "colab": {
          "base_uri": "https://localhost:8080/"
        },
        "id": "tHQ9enFMk6Aq",
        "outputId": "5e4fa1d2-e7dc-4e85-cb9c-5289961bb3d1"
      },
      "execution_count": null,
      "outputs": [
        {
          "output_type": "stream",
          "name": "stdout",
          "text": [
            "Accuracy: 0.4860\n"
          ]
        }
      ]
    },
    {
      "cell_type": "code",
      "source": [
        "from scipy.sparse import hstack\n",
        "from sklearn.model_selection import train_test_split\n",
        "from sklearn.ensemble import RandomForestClassifier\n",
        "from sklearn.metrics import accuracy_score\n",
        "\n",
        "# Re-calculate X and X_tfidf after data cleaning\n",
        "X = df_cleaned[['char_count', 'word_count', 'avg_word_length', 'stopword_count', 'htag_count']]\n",
        "X_tfidf = tfidf_vectorizer.fit_transform(df_cleaned['cleaned_text']) # Recalculate X_tfidf\n",
        "\n",
        "# Combine NLP features and TFIDF features\n",
        "X_combined = hstack([X, X_tfidf])\n",
        "\n",
        "# Train model and evaluate\n",
        "X_train, X_test, y_train, y_test = train_test_split(X_combined, y, test_size=0.2, random_state=42)  # Add random_state\n",
        "model = RandomForestClassifier() # Re-initialize the model\n",
        "model.fit(X_train, y_train)\n",
        "y_pred = model.predict(X_test)\n",
        "print(f'Combined Features Accuracy: {accuracy_score(y_test, y_pred)}')"
      ],
      "metadata": {
        "colab": {
          "base_uri": "https://localhost:8080/"
        },
        "id": "1NnRi8qpk596",
        "outputId": "e2b3b43e-8701-4fdc-fbc5-1a9d597743ea"
      },
      "execution_count": null,
      "outputs": [
        {
          "output_type": "stream",
          "name": "stdout",
          "text": [
            "Combined Features Accuracy: 0.867741935483871\n"
          ]
        }
      ]
    },
    {
      "cell_type": "code",
      "source": [
        "import joblib\n",
        "\n",
        "# Save the trained model\n",
        "joblib.dump(model, 'text_classification_model.pkl')\n",
        "\n",
        "# Load the model for predictions\n",
        "loaded_model = joblib.load('text_classification_model.pkl')\n",
        "\n",
        "# Example: Make predictions on real-world input (e.g., a new text)\n",
        "new_text = [\"A few products in this batch have minor cosmetic flaws such as surface scratches or slight dents, but these issues do not affect the performance or safety of the items.\"]\n",
        "new_text_cleaned = [clean_text(text) for text in new_text]\n",
        "\n",
        "# Generate NLP features for the new text\n",
        "new_text_df = pd.DataFrame({'cleaned_text': new_text_cleaned})  # Create a DataFrame\n",
        "new_text_df = generate_nlp_features(new_text_df)  # Apply the feature generation function\n",
        "\n",
        "# TFIDF features for the new text\n",
        "new_text_tfidf = tfidf_vectorizer.transform(new_text_cleaned)\n",
        "\n",
        "# Combine NLP and TFIDF features for the new text\n",
        "X_new = new_text_df[['char_count', 'word_count', 'avg_word_length', 'stopword_count', 'htag_count']]\n",
        "X_new_combined = hstack([X_new, new_text_tfidf])  # Combine features\n",
        "\n",
        "# Predict using the trained model\n",
        "prediction = loaded_model.predict(X_new_combined)\n",
        "print(f'Prediction for new text: {prediction}')"
      ],
      "metadata": {
        "colab": {
          "base_uri": "https://localhost:8080/"
        },
        "id": "WArMa_uUk57Q",
        "outputId": "70d9c4a8-a9ce-44b6-a25b-ab82c5cadad1"
      },
      "execution_count": null,
      "outputs": [
        {
          "output_type": "stream",
          "name": "stdout",
          "text": [
            "Prediction for new text: ['Minor Defect']\n"
          ]
        }
      ]
    },
    {
      "cell_type": "markdown",
      "source": [
        "**SVM**"
      ],
      "metadata": {
        "id": "Za_-BAEragLO"
      }
    },
    {
      "cell_type": "code",
      "source": [
        "# Student Code: Train Models on NLP Features (char_count, word_count, etc.) using SVM\n",
        "from sklearn.model_selection import train_test_split\n",
        "from sklearn.svm import SVC\n",
        "from sklearn.metrics import accuracy_score\n",
        "\n",
        "# Split data\n",
        "X = df[['char_count', 'word_count', 'avg_word_length', 'stopword_count', 'htag_count']]\n",
        "y = df['Prediction']\n",
        "\n",
        "# Before splitting, remove rows with NaN values in X or y\n",
        "df_cleaned = df.dropna(subset=X.columns.tolist() + [y.name])  # Drop rows with NaN in specified columns\n",
        "X = df_cleaned[['char_count', 'word_count', 'avg_word_length', 'stopword_count', 'htag_count']]  # Reassign X and y after cleaning\n",
        "y = df_cleaned['Prediction']\n",
        "\n",
        "X_train, X_test, y_train, y_test = train_test_split(X, y, test_size=0.3)\n",
        "\n",
        "# Train model (SVM)\n",
        "model = SVC(kernel='linear')  # You can change kernel to 'rbf', 'poly', etc., as needed\n",
        "model.fit(X_train, y_train)\n",
        "\n",
        "# Make predictions\n",
        "y_pred = model.predict(X_test)\n",
        "print(f'Accuracy: {accuracy_score(y_test, y_pred)}')"
      ],
      "metadata": {
        "id": "STL1MXcqsbCj",
        "colab": {
          "base_uri": "https://localhost:8080/"
        },
        "outputId": "208daf53-3a9a-4e87-b80b-6ed4298aa94a"
      },
      "execution_count": null,
      "outputs": [
        {
          "output_type": "stream",
          "name": "stdout",
          "text": [
            "Accuracy: 0.432258064516129\n"
          ]
        }
      ]
    },
    {
      "cell_type": "code",
      "source": [
        "# Initialize SVM model\n",
        "svm_model = SVC(kernel='linear')  # You can change kernel to 'rbf', 'poly', etc.\n",
        "\n",
        "# Before splitting, ensure X_bow and y have the same number of samples\n",
        "# This is likely due to the data cleaning step in cell 25, which might have removed rows with NaNs\n",
        "X_bow_cleaned = X_bow[df_cleaned.index]  # Select rows from X_bow that correspond to the cleaned df\n",
        "\n",
        "# Train and evaluate on Bag of Words (BoW)\n",
        "X_train, X_test, y_train, y_test = train_test_split(X_bow_cleaned, y, test_size=0.3)\n",
        "svm_model.fit(X_train, y_train)\n",
        "y_pred = svm_model.predict(X_test)\n",
        "print(f'BoW Accuracy: {accuracy_score(y_test, y_pred)}')\n",
        "\n",
        "# Train and evaluate on TFIDF\n",
        "X_train, X_test, y_train, y_test = train_test_split(X_tfidf, y, test_size=0.3)\n",
        "svm_model.fit(X_train, y_train)\n",
        "y_pred = svm_model.predict(X_test)\n",
        "print(f'TFIDF Accuracy: {accuracy_score(y_test, y_pred)}')\n",
        "\n",
        "# Train and evaluate on FastText embeddings\n",
        "# Ensure fasttext_embeddings and y have the same length after data cleaning\n",
        "fasttext_embeddings_cleaned = np.vstack(df_cleaned['fasttext_embeddings']) # Use df_cleaned instead of df\n",
        "X_train, X_test, y_train, y_test = train_test_split(fasttext_embeddings_cleaned, y, test_size=0.3)\n",
        "svm_model.fit(X_train, y_train)\n",
        "y_pred = svm_model.predict(X_test)\n",
        "print(f'FastText Accuracy: {accuracy_score(y_test, y_pred)}')"
      ],
      "metadata": {
        "id": "gNjKUjMpsbAM",
        "colab": {
          "base_uri": "https://localhost:8080/"
        },
        "outputId": "45eaf2e6-961c-4e8d-9274-b13d7ed54e1f"
      },
      "execution_count": null,
      "outputs": [
        {
          "output_type": "stream",
          "name": "stdout",
          "text": [
            "BoW Accuracy: 0.875268817204301\n",
            "TFIDF Accuracy: 0.875268817204301\n",
            "FastText Accuracy: 0.8451612903225807\n"
          ]
        }
      ]
    },
    {
      "cell_type": "code",
      "source": [
        "# SVM with TFIDF and BOW\n",
        "from scipy.sparse import hstack\n",
        "\n",
        "# Before combining, recalculate TFIDF based on the cleaned text data to ensure consistent dimensions\n",
        "X_tfidf = tfidf_vectorizer.fit_transform(df_cleaned['cleaned_text'])\n",
        "X_bow_cleaned = X_bow[df_cleaned.index] # Select the rows in X_bow corresponding to the cleaned data\n",
        "\n",
        "# Combine TFIDF and Bag of Words features\n",
        "X_combined = hstack([X_tfidf, X_bow_cleaned])  # Use X_bow_cleaned\n",
        "\n",
        "# Train and evaluate SVM with combined features\n",
        "X_train, X_test, y_train, y_test = train_test_split(X_combined, y, test_size=0.2, random_state=42)\n",
        "svm_model.fit(X_train, y_train)\n",
        "y_pred = svm_model.predict(X_test)\n",
        "print(f'SVM with TFIDF + BoW Accuracy: {accuracy_score(y_test, y_pred)}')"
      ],
      "metadata": {
        "colab": {
          "base_uri": "https://localhost:8080/"
        },
        "id": "OTCNrW1AfdGT",
        "outputId": "a3877da1-ab8f-4307-f9b5-0c740936d557"
      },
      "execution_count": null,
      "outputs": [
        {
          "output_type": "stream",
          "name": "stdout",
          "text": [
            "SVM with TFIDF + BoW Accuracy: 0.8193548387096774\n"
          ]
        }
      ]
    },
    {
      "cell_type": "markdown",
      "source": [
        "**Logistic Regression**"
      ],
      "metadata": {
        "id": "tTdHYfNPanP6"
      }
    },
    {
      "cell_type": "code",
      "source": [
        "# Student Code: Train models on NLP Features (char_count, word_count, etc.) using Logistic Regression\n",
        "# Split data\n",
        "from sklearn.model_selection import train_test_split\n",
        "from sklearn.linear_model import LogisticRegression\n",
        "from sklearn.metrics import accuracy_score\n",
        "\n",
        "X = df[['char_count', 'word_count', 'avg_word_length', 'stopword_count', 'htag_count']]\n",
        "y = df['Prediction']\n",
        "\n",
        "# Before splitting, remove rows with NaN values in X or y\n",
        "df_cleaned = df.dropna(subset=X.columns.tolist() + [y.name])  # Drop rows with NaN in specified columns\n",
        "X = df_cleaned[['char_count', 'word_count', 'avg_word_length', 'stopword_count', 'htag_count']]  # Reassign X and y after cleaning\n",
        "y = df_cleaned['Prediction']\n",
        "\n",
        "X_train, X_test, y_train, y_test = train_test_split(X, y, test_size=0.3)\n",
        "\n",
        "# Train model (Logistic Regression)\n",
        "model = LogisticRegression()\n",
        "model.fit(X_train, y_train)\n",
        "\n",
        "# Make predictions\n",
        "y_pred = model.predict(X_test)\n",
        "print(f'Accuracy: {accuracy_score(y_test, y_pred)}')"
      ],
      "metadata": {
        "colab": {
          "base_uri": "https://localhost:8080/"
        },
        "id": "CMPzyL-ieDAb",
        "outputId": "18b88b17-acd0-4b4f-ca5e-307eee80b4e4"
      },
      "execution_count": null,
      "outputs": [
        {
          "output_type": "stream",
          "name": "stdout",
          "text": [
            "Accuracy: 0.44516129032258067\n"
          ]
        },
        {
          "output_type": "stream",
          "name": "stderr",
          "text": [
            "/usr/local/lib/python3.11/dist-packages/sklearn/linear_model/_logistic.py:465: ConvergenceWarning: lbfgs failed to converge (status=1):\n",
            "STOP: TOTAL NO. of ITERATIONS REACHED LIMIT.\n",
            "\n",
            "Increase the number of iterations (max_iter) or scale the data as shown in:\n",
            "    https://scikit-learn.org/stable/modules/preprocessing.html\n",
            "Please also refer to the documentation for alternative solver options:\n",
            "    https://scikit-learn.org/stable/modules/linear_model.html#logistic-regression\n",
            "  n_iter_i = _check_optimize_result(\n"
          ]
        }
      ]
    },
    {
      "cell_type": "code",
      "source": [
        "# Initialize Logistic Regression model\n",
        "log_model = LogisticRegression()\n",
        "\n",
        "# Before splitting, ensure X_bow and y have the same number of samples\n",
        "# Recalculate X_bow, X_tfidf, fasttext_embeddings based on df_cleaned\n",
        "X_bow = bow_vectorizer.fit_transform(df_cleaned['cleaned_text'])  # Recalculate X_bow\n",
        "X_tfidf = tfidf_vectorizer.fit_transform(df_cleaned['cleaned_text'])  # Recalculate X_tfidf\n",
        "fasttext_embeddings_cleaned = np.vstack(df_cleaned['fasttext_embeddings'])  # Use df_cleaned for FastText\n",
        "\n",
        "# Train and evaluate on Bag of Words (BoW)\n",
        "X_train, X_test, y_train, y_test = train_test_split(X_bow, y, test_size=0.3, random_state=42)  # Add random_state for reproducibility\n",
        "log_model.fit(X_train, y_train)\n",
        "y_pred = log_model.predict(X_test)\n",
        "print(f'BoW Accuracy: {accuracy_score(y_test, y_pred)}')\n",
        "\n",
        "# Train and evaluate on TFIDF\n",
        "X_train, X_test, y_train, y_test = train_test_split(X_tfidf, y, test_size=0.3, random_state=42)  # Add random_state\n",
        "log_model.fit(X_train, y_train)\n",
        "y_pred = log_model.predict(X_test)\n",
        "print(f'TFIDF Accuracy: {accuracy_score(y_test, y_pred)}')\n",
        "\n",
        "# Train and evaluate on FastText embeddings\n",
        "X_train, X_test, y_train, y_test = train_test_split(fasttext_embeddings_cleaned, y, test_size=0.3, random_state=42)  # Add random_state\n",
        "log_model.fit(X_train, y_train)\n",
        "y_pred = log_model.predict(X_test)\n",
        "print(f'FastText Accuracy: {accuracy_score(y_test, y_pred)}')"
      ],
      "metadata": {
        "colab": {
          "base_uri": "https://localhost:8080/"
        },
        "id": "suuQz8X6eH2Z",
        "outputId": "69f86fcc-defd-4942-f5c8-9057066855a0"
      },
      "execution_count": null,
      "outputs": [
        {
          "output_type": "stream",
          "name": "stdout",
          "text": [
            "BoW Accuracy: 0.843010752688172\n",
            "TFIDF Accuracy: 0.8602150537634409\n",
            "FastText Accuracy: 0.8193548387096774\n"
          ]
        }
      ]
    },
    {
      "cell_type": "code",
      "source": [
        "# Combine TFIDF and Bag of Words features\n",
        "X_combined = hstack([X_tfidf, X_bow])\n",
        "\n",
        "# Train and evaluate Logistic Regression with combined features\n",
        "X_train, X_test, y_train, y_test = train_test_split(X_combined, y, test_size=0.3)\n",
        "log_model = LogisticRegression()\n",
        "log_model.fit(X_train, y_train)\n",
        "y_pred = log_model.predict(X_test)\n",
        "print(f'Logistic Regression with TFIDF + BoW Accuracy: {accuracy_score(y_test, y_pred)}')"
      ],
      "metadata": {
        "colab": {
          "base_uri": "https://localhost:8080/"
        },
        "id": "i1RHCSJUTtB6",
        "outputId": "e676c3e4-26aa-4091-bcac-9a8eb35133b4"
      },
      "execution_count": null,
      "outputs": [
        {
          "output_type": "stream",
          "name": "stdout",
          "text": [
            "Logistic Regression with TFIDF + BoW Accuracy: 0.8795698924731182\n"
          ]
        }
      ]
    },
    {
      "cell_type": "markdown",
      "source": [
        "**KNN**"
      ],
      "metadata": {
        "id": "EeuRdlfKauAt"
      }
    },
    {
      "cell_type": "code",
      "source": [
        "#KNN\n",
        "from sklearn.neighbors import KNeighborsClassifier\n",
        "from sklearn.model_selection import train_test_split\n",
        "from sklearn.metrics import accuracy_score\n",
        "\n",
        "# Train and evaluate KNN with TFIDF\n",
        "X_train, X_test, y_train, y_test = train_test_split(X_tfidf, y, test_size=0.2, random_state=42)\n",
        "knn_model = KNeighborsClassifier(n_neighbors=5)\n",
        "knn_model.fit(X_train, y_train)\n",
        "y_pred = knn_model.predict(X_test)\n",
        "print(f'KNN with TFIDF Accuracy: {accuracy_score(y_test, y_pred)}')\n"
      ],
      "metadata": {
        "colab": {
          "base_uri": "https://localhost:8080/"
        },
        "id": "TVspNEW5WBYB",
        "outputId": "cf1ad2e5-d6ca-40f6-f002-9753393791cc"
      },
      "execution_count": null,
      "outputs": [
        {
          "output_type": "stream",
          "name": "stdout",
          "text": [
            "KNN with TFIDF Accuracy: 0.832258064516129\n"
          ]
        }
      ]
    },
    {
      "cell_type": "code",
      "source": [
        "# Initialize KNN model\n",
        "knn_model = KNeighborsClassifier(n_neighbors=5)\n",
        "\n",
        "# Train and evaluate on Bag of Words (BoW)\n",
        "X_train, X_test, y_train, y_test = train_test_split(X_bow, y, test_size=0.2, random_state=42)\n",
        "knn_model.fit(X_train, y_train)\n",
        "y_pred = knn_model.predict(X_test)\n",
        "print(f'KNN with BoW Accuracy: {accuracy_score(y_test, y_pred)}')\n",
        "\n",
        "# Train and evaluate on TFIDF\n",
        "X_train, X_test, y_train, y_test = train_test_split(X_tfidf, y, test_size=0.2, random_state=42)\n",
        "knn_model.fit(X_train, y_train)\n",
        "y_pred = knn_model.predict(X_test)\n",
        "print(f'KNN with TFIDF Accuracy: {accuracy_score(y_test, y_pred)}')\n",
        "\n",
        "# Train and evaluate on FastText embeddings\n",
        "# Ensure fasttext_embeddings and y have the same length after data cleaning\n",
        "fasttext_embeddings_cleaned = np.vstack(df_cleaned['fasttext_embeddings']) # Use df_cleaned instead of df\n",
        "X_train, X_test, y_train, y_test = train_test_split(fasttext_embeddings_cleaned, y, test_size=0.2, random_state=42)\n",
        "knn_model.fit(X_train, y_train)\n",
        "y_pred = knn_model.predict(X_test)\n",
        "print(f'KNN with FastText Accuracy: {accuracy_score(y_test, y_pred)}')"
      ],
      "metadata": {
        "colab": {
          "base_uri": "https://localhost:8080/"
        },
        "id": "EQCfBYCeWamy",
        "outputId": "8c098f55-6da5-46d4-e60d-fe24b61d1892"
      },
      "execution_count": null,
      "outputs": [
        {
          "output_type": "stream",
          "name": "stdout",
          "text": [
            "KNN with BoW Accuracy: 0.8225806451612904\n",
            "KNN with TFIDF Accuracy: 0.832258064516129\n",
            "KNN with FastText Accuracy: 0.8258064516129032\n"
          ]
        }
      ]
    },
    {
      "cell_type": "code",
      "source": [
        "# Combine TFIDF and Bag of Words features\n",
        "X_combined = hstack([X_tfidf, X_bow])\n",
        "\n",
        "# Train and evaluate KNN with combined features\n",
        "X_train, X_test, y_train, y_test = train_test_split(X_combined, y, test_size=0.2, random_state=42)\n",
        "knn_model.fit(X_train, y_train)\n",
        "y_pred = knn_model.predict(X_test)\n",
        "print(f'KNN with TFIDF + BoW Accuracy: {accuracy_score(y_test, y_pred)}')\n"
      ],
      "metadata": {
        "colab": {
          "base_uri": "https://localhost:8080/"
        },
        "id": "Bca4XbwGWu7S",
        "outputId": "0cfe5a9b-da9d-4bc2-af96-20a7102cafab"
      },
      "execution_count": null,
      "outputs": [
        {
          "output_type": "stream",
          "name": "stdout",
          "text": [
            "KNN with TFIDF + BoW Accuracy: 0.8387096774193549\n"
          ]
        }
      ]
    },
    {
      "cell_type": "markdown",
      "source": [
        "**Decision Tree**"
      ],
      "metadata": {
        "id": "aCwCAIFzawtF"
      }
    },
    {
      "cell_type": "code",
      "source": [
        "#Decision Tree\n",
        "from sklearn.tree import DecisionTreeClassifier\n",
        "\n",
        "# Train and evaluate Decision Tree with TFIDF\n",
        "X_train, X_test, y_train, y_test = train_test_split(X_tfidf, y, test_size=0.2, random_state=42)\n",
        "dt_model = DecisionTreeClassifier()\n",
        "dt_model.fit(X_train, y_train)\n",
        "y_pred = dt_model.predict(X_test)\n",
        "print(f'Decision Tree with TFIDF Accuracy: {accuracy_score(y_test, y_pred)}')"
      ],
      "metadata": {
        "colab": {
          "base_uri": "https://localhost:8080/"
        },
        "id": "u2bdMMxLW4at",
        "outputId": "ce5f0a8b-81b0-44ca-a01d-5e75eb869625"
      },
      "execution_count": null,
      "outputs": [
        {
          "output_type": "stream",
          "name": "stdout",
          "text": [
            "Decision Tree with TFIDF Accuracy: 0.7677419354838709\n"
          ]
        }
      ]
    },
    {
      "cell_type": "code",
      "source": [
        "# Initialize Decision Tree model\n",
        "dt_model = DecisionTreeClassifier()\n",
        "\n",
        "# Train and evaluate on Bag of Words (BoW)\n",
        "X_train, X_test, y_train, y_test = train_test_split(X_bow, y, test_size=0.2, random_state=42)\n",
        "dt_model.fit(X_train, y_train)\n",
        "y_pred = dt_model.predict(X_test)\n",
        "print(f'Decision Tree with BoW Accuracy: {accuracy_score(y_test, y_pred)}')\n",
        "\n",
        "# Train and evaluate on TFIDF\n",
        "X_train, X_test, y_train, y_test = train_test_split(X_tfidf, y, test_size=0.2, random_state=42)\n",
        "dt_model.fit(X_train, y_train)\n",
        "y_pred = dt_model.predict(X_test)\n",
        "print(f'Decision Tree with TFIDF Accuracy: {accuracy_score(y_test, y_pred)}')\n",
        "\n",
        "# Train and evaluate on FastText embeddings\n",
        "# Use fasttext_embeddings from the cleaned DataFrame (df_cleaned)\n",
        "X_train, X_test, y_train, y_test = train_test_split(np.vstack(df_cleaned['fasttext_embeddings']), y, test_size=0.2, random_state=42)\n",
        "dt_model.fit(X_train, y_train)\n",
        "y_pred = dt_model.predict(X_test)\n",
        "print(f'Decision Tree with FastText Accuracy: {accuracy_score(y_test, y_pred)}')"
      ],
      "metadata": {
        "colab": {
          "base_uri": "https://localhost:8080/"
        },
        "id": "_V7WfhnqW-D0",
        "outputId": "9f60d6e8-e2d4-44f1-ea47-ca9a58d8fc25"
      },
      "execution_count": null,
      "outputs": [
        {
          "output_type": "stream",
          "name": "stdout",
          "text": [
            "Decision Tree with BoW Accuracy: 0.7741935483870968\n",
            "Decision Tree with TFIDF Accuracy: 0.7645161290322581\n",
            "Decision Tree with FastText Accuracy: 0.6548387096774193\n"
          ]
        }
      ]
    },
    {
      "cell_type": "code",
      "source": [
        "# Train and evaluate Decision Tree with combined features\n",
        "X_train, X_test, y_train, y_test = train_test_split(X_combined, y, test_size=0.2, random_state=42)\n",
        "dt_model.fit(X_train, y_train)\n",
        "y_pred = dt_model.predict(X_test)\n",
        "print(f'Decision Tree with TFIDF + BoW Accuracy: {accuracy_score(y_test, y_pred)}')"
      ],
      "metadata": {
        "colab": {
          "base_uri": "https://localhost:8080/"
        },
        "id": "A7hErScMXDKY",
        "outputId": "52d6543a-1168-45dc-f53a-dadd7670a3de"
      },
      "execution_count": null,
      "outputs": [
        {
          "output_type": "stream",
          "name": "stdout",
          "text": [
            "Decision Tree with TFIDF + BoW Accuracy: 0.7612903225806451\n"
          ]
        }
      ]
    },
    {
      "cell_type": "markdown",
      "source": [
        "**Naive Bayes**"
      ],
      "metadata": {
        "id": "Es_twnb7a1Ru"
      }
    },
    {
      "cell_type": "code",
      "source": [
        "#Naive Bayes\n",
        "from sklearn.naive_bayes import MultinomialNB\n",
        "\n",
        "# Train and evaluate Naïve Bayes with TFIDF\n",
        "X_train, X_test, y_train, y_test = train_test_split(X_tfidf, y, test_size=0.2, random_state=42)\n",
        "nb_model = MultinomialNB()\n",
        "nb_model.fit(X_train, y_train)\n",
        "y_pred = nb_model.predict(X_test)\n",
        "print(f'Naïve Bayes with TFIDF Accuracy: {accuracy_score(y_test, y_pred)}')\n"
      ],
      "metadata": {
        "id": "FLaFGfObXJA1",
        "colab": {
          "base_uri": "https://localhost:8080/"
        },
        "outputId": "a8a552a3-3c11-4098-b08a-7067f69aa03f"
      },
      "execution_count": null,
      "outputs": [
        {
          "output_type": "stream",
          "name": "stdout",
          "text": [
            "Naïve Bayes with TFIDF Accuracy: 0.8709677419354839\n"
          ]
        }
      ]
    },
    {
      "cell_type": "code",
      "source": [
        "from sklearn.naive_bayes import MultinomialNB, GaussianNB\n",
        "\n",
        "# Initialize MultinomialNB for BoW and TFIDF (only works with non-negative values)\n",
        "nb_model = MultinomialNB()\n",
        "\n",
        "# Train and evaluate on Bag of Words (BoW)\n",
        "X_train, X_test, y_train, y_test = train_test_split(X_bow, y, test_size=0.2, random_state=42)\n",
        "nb_model.fit(X_train, y_train)\n",
        "y_pred = nb_model.predict(X_test)\n",
        "print(f'Naïve Bayes with BoW Accuracy: {accuracy_score(y_test, y_pred)}')\n",
        "\n",
        "# Train and evaluate on TFIDF\n",
        "X_train, X_test, y_train, y_test = train_test_split(X_tfidf, y, test_size=0.2, random_state=42)\n",
        "nb_model.fit(X_train, y_train)\n",
        "y_pred = nb_model.predict(X_test)\n",
        "print(f'Naïve Bayes with TFIDF Accuracy: {accuracy_score(y_test, y_pred)}')\n",
        "\n",
        "# ---- Handling FastText embeddings ---- #\n",
        "# Use GaussianNB for FastText since it allows negative values\n",
        "nb_gaussian = GaussianNB()\n",
        "\n",
        "# Train and evaluate on FastText embeddings\n",
        "# Use fasttext_embeddings from the cleaned DataFrame (df_cleaned) to ensure consistent length with y\n",
        "X_train, X_test, y_train, y_test = train_test_split(np.vstack(df_cleaned['fasttext_embeddings']), y, test_size=0.2, random_state=42)\n",
        "nb_gaussian.fit(X_train, y_train)\n",
        "y_pred = nb_gaussian.predict(X_test)\n",
        "print(f'Naïve Bayes (GaussianNB) with FastText Accuracy: {accuracy_score(y_test, y_pred)}')"
      ],
      "metadata": {
        "id": "mwfHlRkEXPp_",
        "colab": {
          "base_uri": "https://localhost:8080/"
        },
        "outputId": "69fcf3af-c22e-421d-9308-e3f5e233dd00"
      },
      "execution_count": null,
      "outputs": [
        {
          "output_type": "stream",
          "name": "stdout",
          "text": [
            "Naïve Bayes with BoW Accuracy: 0.864516129032258\n",
            "Naïve Bayes with TFIDF Accuracy: 0.8709677419354839\n",
            "Naïve Bayes (GaussianNB) with FastText Accuracy: 0.8193548387096774\n"
          ]
        }
      ]
    },
    {
      "cell_type": "code",
      "source": [
        "# Train and evaluate Naïve Bayes with combined features\n",
        "X_train, X_test, y_train, y_test = train_test_split(X_combined, y, test_size=0.2, random_state=42)\n",
        "nb_model.fit(X_train, y_train)\n",
        "y_pred = nb_model.predict(X_test)\n",
        "print(f'Naïve Bayes with TFIDF + BoW Accuracy: {accuracy_score(y_test, y_pred)}')"
      ],
      "metadata": {
        "id": "UVyK58E0Xcyu",
        "colab": {
          "base_uri": "https://localhost:8080/"
        },
        "outputId": "e6538358-be02-4016-860b-c81c0dde6aa9"
      },
      "execution_count": null,
      "outputs": [
        {
          "output_type": "stream",
          "name": "stdout",
          "text": [
            "Naïve Bayes with TFIDF + BoW Accuracy: 0.867741935483871\n"
          ]
        }
      ]
    },
    {
      "cell_type": "markdown",
      "source": [
        "**Analysis:**"
      ],
      "metadata": {
        "id": "4AkUbN4NZYVc"
      }
    },
    {
      "cell_type": "markdown",
      "source": [
        "### Comparative Analysis of Classification Models\n",
        "\n",
        "| Model                | Accuracy with TFIDF | Accuracy with FastText | Accuracy with BoW | Accuracy with TFIDF + BoW |\n",
        "|----------------|-------|----------|-----------|--------|\n",
        "| SVM            | 0.8752   | 0.8451      | 0.8752       | 0.8193    |\n",
        "| Random Forest  |0.4232    | 0.4860      | 0.8601       | 0.8677    |\n",
        "| Logistic Regression   | 0.8602     | 0.8193         | 0.8430      | 0.8795   |\n",
        "| KNN            | 0.8322  | 0.8258     | 0.8225         | 0.8387    |\n",
        "| Decision Tree  | 0.7677  | 0.6548     | 0.7741         | 0.7612    |\n",
        "| Naive Bayes    | 0.8709  | 0.8193     | 0.8645         | 0.8677    |\n",
        "\n",
        "After comparative analysis of different classification models, Logistic Regression is suited as the best model with the accuracy of 87.95%"
      ],
      "metadata": {
        "id": "Des10kYQmCPw"
      }
    }
  ]
}